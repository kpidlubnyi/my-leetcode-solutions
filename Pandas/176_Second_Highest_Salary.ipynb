{
 "cells": [
  {
   "metadata": {},
   "cell_type": "markdown",
   "source": "# 176. Second-Highest Salary",
   "id": "809749092f04e6c6"
  },
  {
   "cell_type": "code",
   "execution_count": null,
   "id": "initial_id",
   "metadata": {
    "collapsed": true
   },
   "outputs": [],
   "source": [
    "import pandas as pd\n",
    "\n",
    "def second_highest_salary(employee: pd.DataFrame) -> pd.DataFrame:\n",
    "    if employee.shape[0] < 2:\n",
    "        return pd.DataFrame(data = {'SecondHighestSalary': [pd.NA]})\n",
    "    \n",
    "    salaries = employee.salary.dropna().unique()\n",
    "    salaries.sort()\n",
    "\n",
    "    if len(salaries) < 2:\n",
    "        return pd.DataFrame(data = {'SecondHighestSalary': [pd.NA]})\n",
    "\n",
    "    return pd.DataFrame({'SecondHighestSalary':[salaries[-2]]})"
   ]
  },
  {
   "metadata": {},
   "cell_type": "markdown",
   "source": "![176](../Images/Pandas/176.png)",
   "id": "20b562c5cb6763c4"
  },
  {
   "metadata": {},
   "cell_type": "markdown",
   "source": [
    "#### Again, a fairly simple task, although it is labeled as Medium! \n",
    "#### Exception handling, a simple chain function that allows you to leave only unique values without null and sorting can easily cope with this problem."
   ],
   "id": "546602ad5edc0b77"
  },
  {
   "metadata": {},
   "cell_type": "markdown",
   "source": "",
   "id": "7d9bf7b0cb31eae"
  }
 ],
 "metadata": {
  "kernelspec": {
   "display_name": "Python 3",
   "language": "python",
   "name": "python3"
  },
  "language_info": {
   "codemirror_mode": {
    "name": "ipython",
    "version": 2
   },
   "file_extension": ".py",
   "mimetype": "text/x-python",
   "name": "python",
   "nbconvert_exporter": "python",
   "pygments_lexer": "ipython2",
   "version": "2.7.6"
  }
 },
 "nbformat": 4,
 "nbformat_minor": 5
}
