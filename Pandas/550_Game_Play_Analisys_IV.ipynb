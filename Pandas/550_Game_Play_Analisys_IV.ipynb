{
 "cells": [
  {
   "cell_type": "markdown",
   "metadata": {},
   "source": [
    "# 550. Game Play Analysis IV"
   ]
  },
  {
   "cell_type": "code",
   "execution_count": null,
   "metadata": {},
   "outputs": [],
   "source": [
    "import pandas as pd\n",
    "\n",
    "def gameplay_analysis(activity: pd.DataFrame) -> pd.DataFrame:\n",
    "    activity['first_login_plus_day'] = activity.groupby('player_id').event_date.transform('min') + pd.to_timedelta(1, 'D')\n",
    "    activity['consecutive'] = activity.apply(lambda x: True if x.first_login_plus_day == x.event_date else False, axis = 1)\n",
    "    activity = activity.groupby('player_id').consecutive.max().astype('int')\n",
    "\n",
    "    fraction = activity.sum() / activity.count()\n",
    "\n",
    "    return pd.DataFrame({'fraction':[round(fraction, 2)]})"
   ]
  },
  {
   "cell_type": "markdown",
   "metadata": {},
   "source": [
    "![550](../images/Pandas/550.png)"
   ]
  },
  {
   "cell_type": "markdown",
   "metadata": {},
   "source": [
    "Checking the login two days in a row from the first day inclusive, and dividing such users by the total number."
   ]
  }
 ],
 "metadata": {
  "language_info": {
   "name": "python"
  }
 },
 "nbformat": 4,
 "nbformat_minor": 2
}
