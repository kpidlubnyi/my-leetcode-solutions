{
 "cells": [
  {
   "cell_type": "markdown",
   "metadata": {},
   "source": [
    "# 181. Employees Earning More That Their Managers"
   ]
  },
  {
   "cell_type": "code",
   "execution_count": null,
   "metadata": {
    "vscode": {
     "languageId": "plaintext"
    }
   },
   "outputs": [],
   "source": [
    "import pandas as pd\n",
    "\n",
    "def find_employees(df: pd.DataFrame) -> pd.DataFrame:\n",
    "    merged_df = df.merge(right=df, how = 'left', left_on=\"managerId\", right_on=\"id\")\n",
    "    return pd.DataFrame(merged_df.loc[ merged_df.salary_x > merged_df.salary_y,\"name_x\"]).rename(columns = {\"name_x\":\"Employee\"})\n",
    "    "
   ]
  },
  {
   "cell_type": "markdown",
   "metadata": {},
   "source": [
    "![181](../images/Pandas/181.png)"
   ]
  },
  {
   "cell_type": "markdown",
   "metadata": {},
   "source": [
    "It's a pretty simple task. Left join and simple condition filtering do the trick.\n",
    "\n",
    "*In the future, I won't focus too much on the results of other users, as I began to notice that if you subset several times, the results are slightly different, and a solution that is better than only 23% of the percentage can become better than 70% 😀*"
   ]
  }
 ],
 "metadata": {
  "language_info": {
   "name": "python"
  }
 },
 "nbformat": 4,
 "nbformat_minor": 2
}
