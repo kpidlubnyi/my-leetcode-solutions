{
 "cells": [
  {
   "cell_type": "markdown",
   "metadata": {},
   "source": [
    "# 185. Department Top Three Salaries"
   ]
  },
  {
   "cell_type": "code",
   "execution_count": null,
   "metadata": {},
   "outputs": [],
   "source": [
    "import pandas as pd\n",
    "\n",
    "def top_three_salaries(employee: pd.DataFrame, department: pd.DataFrame) -> pd.DataFrame:\n",
    "    top3_salaries = pd.DataFrame(employee.drop_duplicates(subset=['departmentId', 'salary'])\\\n",
    "    .groupby('departmentId').salary.nlargest(3)).reset_index()[['departmentId', 'salary']]\n",
    "\n",
    "    employee = employee.merge(top3_salaries, how='right', on = ['departmentId', 'salary'], suffixes=['_e', '_s'])\\\n",
    "    .merge(department, left_on = 'departmentId', right_on='id')\n",
    "\n",
    "    return employee[['name_y', 'name_x', 'salary']].rename(columns = {'name_y':'Department', 'name_x':'Employee', 'salary':'Salary'})"
   ]
  },
  {
   "cell_type": "markdown",
   "metadata": {},
   "source": [
    "![185](../images/Pandas/185.png)"
   ]
  },
  {
   "cell_type": "markdown",
   "metadata": {},
   "source": [
    "Creating a dataframe with the three largest unique salary values for each department and its merge with employee and department easily solves this problem!"
   ]
  }
 ],
 "metadata": {
  "language_info": {
   "name": "python"
  }
 },
 "nbformat": 4,
 "nbformat_minor": 2
}
