{
 "cells": [
  {
   "cell_type": "markdown",
   "metadata": {},
   "source": [
    "# 262. Trips and Users"
   ]
  },
  {
   "cell_type": "code",
   "execution_count": null,
   "metadata": {},
   "outputs": [],
   "source": [
    "import pandas as pd\n",
    "\n",
    "def trips_and_users(trips: pd.DataFrame, users: pd.DataFrame) -> pd.DataFrame:\n",
    "    requesting_dates = ['2013-10-01', '2013-10-02', '2013-10-03']\n",
    "    \n",
    "    merged = trips.merge(users, how = 'left', left_on = 'client_id', right_on = 'users_id', suffixes = ['_t', '_u1'])\\\n",
    "                  .merge(users, how = 'left', left_on = 'driver_id', right_on = 'users_id', suffixes = ['_u1', '_u2'])\\\n",
    "                  [['request_at', 'status', 'banned_u1', 'banned_u2']]\n",
    "\n",
    "    filtered = merged[(merged.banned_u1 == 'No') & (merged.banned_u2 == 'No')]\n",
    "\n",
    "    total = filtered.groupby('request_at', as_index = False).agg({'status':'count'})\n",
    "    cancelled = filtered[~(filtered.status == 'completed')]\\\n",
    "                        .groupby('request_at', as_index = False).agg({'status':'count'})\n",
    "\n",
    "    result = total.merge(cancelled, how= 'outer', on = 'request_at').fillna(0).rename(columns = {'request_at':'Day'})\n",
    "    result['Cancellation Rate'] = result.status_y.div(result.status_x)\n",
    "\n",
    "    return result.loc[result.Day.isin(requesting_dates),['Day', 'Cancellation Rate']].round(2)\n",
    "    "
   ]
  },
  {
   "cell_type": "markdown",
   "metadata": {},
   "source": [
    "![262](../images/Pandas/262.png)"
   ]
  },
  {
   "cell_type": "markdown",
   "metadata": {},
   "source": [
    "This is probably the most difficult and complex task I have faced so far. Although, of course, after solving it, everything seems so simple )"
   ]
  }
 ],
 "metadata": {
  "language_info": {
   "name": "python"
  }
 },
 "nbformat": 4,
 "nbformat_minor": 2
}
