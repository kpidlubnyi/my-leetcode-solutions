{
 "cells": [
  {
   "cell_type": "markdown",
   "metadata": {},
   "source": [
    "# 184. Department Highest Salary"
   ]
  },
  {
   "cell_type": "code",
   "execution_count": null,
   "metadata": {},
   "outputs": [],
   "source": [
    "import pandas as pd\n",
    "\n",
    "def department_highest_salary(employee: pd.DataFrame, department: pd.DataFrame) -> pd.DataFrame:\n",
    "    salaries = pd.DataFrame(employee.groupby(employee.departmentId).salary.max()).reset_index()\n",
    "    employee = employee.merge(department, left_on='departmentId', right_on='id', suffixes=['_e', '_d'])\\\n",
    "    [['name_d', 'name_e', 'salary', 'departmentId']]\n",
    "    \n",
    "    employee = employee.merge(salaries, on='departmentId')\n",
    "    return employee.loc[employee.salary_x == employee.salary_y, ['name_d', 'name_e', 'salary_x']]\\\n",
    "            .rename(columns={'name_d':'Department', 'name_e':'Employee', 'salary_x':'Salary'})"
   ]
  },
  {
   "cell_type": "markdown",
   "metadata": {},
   "source": [
    "![184](../images/Pandas/184.png)"
   ]
  },
  {
   "cell_type": "markdown",
   "metadata": {},
   "source": [
    "In this task, I decided to first create a dataframe with the maximum salary values for each department, and then merge it with the dataframe containing all the information!"
   ]
  }
 ],
 "metadata": {
  "language_info": {
   "name": "python"
  }
 },
 "nbformat": 4,
 "nbformat_minor": 2
}
