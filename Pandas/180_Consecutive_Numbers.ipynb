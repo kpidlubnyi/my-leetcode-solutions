{
 "cells": [
  {
   "metadata": {},
   "cell_type": "markdown",
   "source": "# 180. Consecutive Numbers",
   "id": "1ef7792af6556ca9"
  },
  {
   "cell_type": "code",
   "execution_count": null,
   "id": "initial_id",
   "metadata": {
    "collapsed": true
   },
   "outputs": [],
   "source": [
    "import pandas as pd\n",
    "\n",
    "def consecutive_numbers(logs: pd.DataFrame) -> pd.DataFrame:\n",
    "    m = (logs['num'] == logs['num'].shift(1)) & (logs['num'] == logs['num'].shift(2))\n",
    "    r = logs.loc[m, 'num'].unique()\n",
    "    return pd.DataFrame({'ConsecutiveNums':r})\n"
   ]
  },
  {
   "metadata": {},
   "cell_type": "markdown",
   "source": "![180](../images/Pandas/180.png)",
   "id": "98c5be73fbedc3e1"
  },
  {
   "metadata": {},
   "cell_type": "markdown",
   "source": "#### Well, another great result! A somewhat “fancy” mask and approach without using the for loop!",
   "id": "faf23a0d07b00712"
  }
 ],
 "metadata": {
  "kernelspec": {
   "display_name": "Python 3",
   "language": "python",
   "name": "python3"
  },
  "language_info": {
   "codemirror_mode": {
    "name": "ipython",
    "version": 2
   },
   "file_extension": ".py",
   "mimetype": "text/x-python",
   "name": "python",
   "nbconvert_exporter": "python",
   "pygments_lexer": "ipython2",
   "version": "2.7.6"
  }
 },
 "nbformat": 4,
 "nbformat_minor": 5
}
