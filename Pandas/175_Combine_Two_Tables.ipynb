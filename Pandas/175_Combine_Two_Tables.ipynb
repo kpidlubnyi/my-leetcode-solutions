{
 "cells": [
  {
   "metadata": {},
   "cell_type": "markdown",
   "source": "# 175. Combine Two Tables",
   "id": "edb355f2aa7d1e8d"
  },
  {
   "cell_type": "code",
   "id": "initial_id",
   "metadata": {
    "collapsed": true,
    "ExecuteTime": {
     "end_time": "2024-12-21T15:40:26.842546Z",
     "start_time": "2024-12-21T15:40:25.007104Z"
    }
   },
   "source": [
    "import pandas as pd\n",
    "\n",
    "def combine_two_tables(person: pd.DataFrame, address: pd.DataFrame) -> pd.DataFrame:\n",
    "    m_df = person.merge(address, how= 'left', on = 'personId')\n",
    "    return m_df.loc[:, ['firstName','lastName', 'city', 'state']]"
   ],
   "outputs": [],
   "execution_count": 1
  },
  {
   "metadata": {},
   "cell_type": "markdown",
   "source": "![175](images/175.png)",
   "id": "ac60304414b8bda6"
  },
  {
   "metadata": {},
   "cell_type": "markdown",
   "source": "#### Well, I am very pleased with my result, although of course the task was more than easy!",
   "id": "aade6cdcb5034c09"
  }
 ],
 "metadata": {
  "kernelspec": {
   "display_name": "Python 3",
   "language": "python",
   "name": "python3"
  },
  "language_info": {
   "codemirror_mode": {
    "name": "ipython",
    "version": 2
   },
   "file_extension": ".py",
   "mimetype": "text/x-python",
   "name": "python",
   "nbconvert_exporter": "python",
   "pygments_lexer": "ipython2",
   "version": "2.7.6"
  }
 },
 "nbformat": 4,
 "nbformat_minor": 5
}
