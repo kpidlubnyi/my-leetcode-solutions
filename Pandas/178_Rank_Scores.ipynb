{
 "cells": [
  {
   "metadata": {},
   "cell_type": "markdown",
   "source": "# 178. Rank Scores",
   "id": "86d2861f1f03b5d0"
  },
  {
   "cell_type": "code",
   "execution_count": null,
   "id": "initial_id",
   "metadata": {
    "collapsed": true
   },
   "outputs": [],
   "source": [
    "import pandas as pd\n",
    "\n",
    "def order_scores(scores: pd.DataFrame) -> pd.DataFrame:\n",
    "    scores['rank'] = scores.score.rank(method = 'dense', ascending = False)\n",
    "    return scores.loc[:, ['score', 'rank']].sort_values(by = 'rank')\n",
    "    "
   ]
  },
  {
   "metadata": {},
   "cell_type": "markdown",
   "source": "![178](images/178.png)",
   "id": "d72ce6e655f7a2fc"
  },
  {
   "metadata": {},
   "cell_type": "markdown",
   "source": [
    "#### Pandas seems to like me :P\n",
    "#### A good understanding of the Dataframe rank method gives me the key to an easy solution to this problem!"
   ],
   "id": "c37023fcd0fa9d07"
  }
 ],
 "metadata": {
  "kernelspec": {
   "display_name": "Python 3",
   "language": "python",
   "name": "python3"
  },
  "language_info": {
   "codemirror_mode": {
    "name": "ipython",
    "version": 2
   },
   "file_extension": ".py",
   "mimetype": "text/x-python",
   "name": "python",
   "nbconvert_exporter": "python",
   "pygments_lexer": "ipython2",
   "version": "2.7.6"
  }
 },
 "nbformat": 4,
 "nbformat_minor": 5
}
