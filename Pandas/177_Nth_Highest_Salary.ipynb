{
 "cells": [
  {
   "metadata": {},
   "cell_type": "markdown",
   "source": "# 177. Nth-Highest Salary",
   "id": "8bc20ed3cc5f18fb"
  },
  {
   "cell_type": "code",
   "execution_count": null,
   "id": "initial_id",
   "metadata": {
    "collapsed": true
   },
   "outputs": [],
   "source": [
    "import pandas as pd\n",
    "\n",
    "def nth_highest_salary(employee: pd.DataFrame, N: int) -> pd.DataFrame:\n",
    "    if employee.shape[0] < N or N < 1:\n",
    "        return pd.DataFrame(data = {f'getNthHighestSalary({N})':[pd.NA]})\n",
    "    \n",
    "    salaries = sorted(list(employee.salary.dropna().unique()))\n",
    "    \n",
    "    if len(salaries) < N:\n",
    "        return pd.DataFrame(data = {f'getNthHighestSalary({N})':[pd.NA]})\n",
    "\n",
    "    return pd.DataFrame(data = {f'getNthHighestSalary({N})':[salaries[-N]]})"
   ]
  },
  {
   "metadata": {},
   "cell_type": "markdown",
   "source": "![177](images/177.png)",
   "id": "2c729e6abe44967d"
  },
  {
   "metadata": {},
   "cell_type": "markdown",
   "source": "#### It's really great to see this result, I'm very pleased! The approach to the problem remained the same, only the sorting method changed, because the one I used in the previous problem did not want to work (if I understood correctly, we were dealing with ndarray then, and this time with IntegerArray). Let's continue!",
   "id": "4fd110aa0ba3f0c7"
  }
 ],
 "metadata": {
  "kernelspec": {
   "display_name": "Python 3",
   "language": "python",
   "name": "python3"
  },
  "language_info": {
   "codemirror_mode": {
    "name": "ipython",
    "version": 2
   },
   "file_extension": ".py",
   "mimetype": "text/x-python",
   "name": "python",
   "nbconvert_exporter": "python",
   "pygments_lexer": "ipython2",
   "version": "2.7.6"
  }
 },
 "nbformat": 4,
 "nbformat_minor": 5
}
