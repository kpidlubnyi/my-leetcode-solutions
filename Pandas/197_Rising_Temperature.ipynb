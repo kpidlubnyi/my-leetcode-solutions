{
 "cells": [
  {
   "cell_type": "markdown",
   "metadata": {},
   "source": [
    "# 197. Rising Temperature"
   ]
  },
  {
   "cell_type": "code",
   "execution_count": null,
   "metadata": {},
   "outputs": [],
   "source": [
    "import pandas as pd\n",
    "\n",
    "def rising_temperature(weather: pd.DataFrame) -> pd.DataFrame:\n",
    "    shifted = weather.copy()\n",
    "    shifted['recordDate'] = shifted['recordDate'] + pd.to_timedelta(1, 'D')\n",
    "    merged = weather.merge(shifted, on='recordDate', suffixes = ['_t', '_y'])\n",
    "    return pd.DataFrame(merged.loc[merged.temperature_t > merged.temperature_y, 'id_t']).rename(columns = {'id_t':'Id'})\n",
    "    "
   ]
  },
  {
   "cell_type": "markdown",
   "metadata": {},
   "source": [
    "![197](../images/Pandas/197.png)"
   ]
  },
  {
   "cell_type": "markdown",
   "metadata": {},
   "source": [
    "I created a dataframe with weather dates shifted by a day, merged weather with it, and applied a simple condition to this dataframe to solve this problem."
   ]
  }
 ],
 "metadata": {
  "language_info": {
   "name": "python"
  }
 },
 "nbformat": 4,
 "nbformat_minor": 2
}
